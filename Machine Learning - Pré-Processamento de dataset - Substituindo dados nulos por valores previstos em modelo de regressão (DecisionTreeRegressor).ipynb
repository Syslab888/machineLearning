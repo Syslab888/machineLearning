{
 "cells": [
  {
   "cell_type": "markdown",
   "metadata": {},
   "source": [
    "# SUBSTITUINDO DADOS MISSING POR DADOS PREVISTOS EM MODELO DE REGRESSÃO (USANDO O ALGORITMO DECISION TREE REGRESSOR)"
   ]
  },
  {
   "cell_type": "markdown",
   "metadata": {},
   "source": [
    "Nesta análise de dados, ao invés de simplesmente substituir todos os valores nulos encontrados no dataset por médias, zeros, valores aleatórios ou medianas, optamos por um outro tipo de processamento. Trataremos as variáveis contendo quantidades razoáveis de dados nulos, convertendo-as em variáveis preditoras e variável target para aplicação de modelo de regressão - o objetivo é o de substituir os dados nulos por dados previstos com a utilização de algoritmo especifico do modelo de predição.\n",
    "* Faremos o pré-processamento do dataset e em uma das etapas iniciaremos o tratamento de seus dados faltantes/nulos.\n",
    "* A variável com maior quantidade de dados nulos será convertida em variável target em um modelo de regressão: ou seja, substituiremos os seus valores missing por valores previstos através de aplicação do algoritmo Decision Tree Regressor no modelo de regressão. \n",
    "* As demais variáveis com razoável quantidade de valores nulos serão transformadas em variáveis preditoras para aplicação deste mesmo modelo de regressão: neste caso, optamos por substituir os dados nulos destas variáveis por medianas.\n",
    "* Em seguida, aplicaremos os modelos de machine learning buscando identificar se houve melhorias significativas nos resultados e na acurácia dos algoritmos após o processamento diferenciado dos dados faltantes do dataset. O intuito desta análise e unicamente o de apurar em que medida a escolha de determinados tipos de processamento de dados nulos de um dataset pode impactar no resultado dos algoritmos e modelos aplicados."
   ]
  },
  {
   "cell_type": "code",
   "execution_count": 1,
   "metadata": {},
   "outputs": [],
   "source": [
    "import pandas as pd\n",
    "import matplotlib.pyplot as plt\n",
    "import warnings\n",
    "warnings.filterwarnings('ignore')"
   ]
  },
  {
   "cell_type": "code",
   "execution_count": 2,
   "metadata": {},
   "outputs": [
    {
     "data": {
      "text/html": [
       "<div>\n",
       "<style scoped>\n",
       "    .dataframe tbody tr th:only-of-type {\n",
       "        vertical-align: middle;\n",
       "    }\n",
       "\n",
       "    .dataframe tbody tr th {\n",
       "        vertical-align: top;\n",
       "    }\n",
       "\n",
       "    .dataframe thead th {\n",
       "        text-align: right;\n",
       "    }\n",
       "</style>\n",
       "<table border=\"1\" class=\"dataframe\">\n",
       "  <thead>\n",
       "    <tr style=\"text-align: right;\">\n",
       "      <th></th>\n",
       "      <th>BeerID</th>\n",
       "      <th>Name</th>\n",
       "      <th>URL</th>\n",
       "      <th>Style</th>\n",
       "      <th>StyleID</th>\n",
       "      <th>Size(L)</th>\n",
       "      <th>OG</th>\n",
       "      <th>FG</th>\n",
       "      <th>ABV</th>\n",
       "      <th>IBU</th>\n",
       "      <th>Color</th>\n",
       "      <th>BoilSize</th>\n",
       "      <th>BoilTime</th>\n",
       "      <th>BoilGravity</th>\n",
       "      <th>Efficiency</th>\n",
       "      <th>MashThickness</th>\n",
       "      <th>SugarScale</th>\n",
       "      <th>BrewMethod</th>\n",
       "      <th>PitchRate</th>\n",
       "      <th>PrimaryTemp</th>\n",
       "      <th>PrimingMethod</th>\n",
       "      <th>PrimingAmount</th>\n",
       "      <th>UserId</th>\n",
       "    </tr>\n",
       "  </thead>\n",
       "  <tbody>\n",
       "    <tr>\n",
       "      <th>0</th>\n",
       "      <td>1</td>\n",
       "      <td>Vanilla Cream Ale</td>\n",
       "      <td>/homebrew/recipe/view/1633/vanilla-cream-ale</td>\n",
       "      <td>Cream Ale</td>\n",
       "      <td>45</td>\n",
       "      <td>21.77</td>\n",
       "      <td>1.055</td>\n",
       "      <td>1.013</td>\n",
       "      <td>5.48</td>\n",
       "      <td>17.65</td>\n",
       "      <td>4.83</td>\n",
       "      <td>28.39</td>\n",
       "      <td>75</td>\n",
       "      <td>1.038</td>\n",
       "      <td>70.0</td>\n",
       "      <td>NaN</td>\n",
       "      <td>Specific Gravity</td>\n",
       "      <td>All Grain</td>\n",
       "      <td>NaN</td>\n",
       "      <td>17.78</td>\n",
       "      <td>corn sugar</td>\n",
       "      <td>4.5 oz</td>\n",
       "      <td>116.0</td>\n",
       "    </tr>\n",
       "    <tr>\n",
       "      <th>1</th>\n",
       "      <td>2</td>\n",
       "      <td>Southern Tier Pumking clone</td>\n",
       "      <td>/homebrew/recipe/view/16367/southern-tier-pumk...</td>\n",
       "      <td>Holiday/Winter Special Spiced Beer</td>\n",
       "      <td>85</td>\n",
       "      <td>20.82</td>\n",
       "      <td>1.083</td>\n",
       "      <td>1.021</td>\n",
       "      <td>8.16</td>\n",
       "      <td>60.65</td>\n",
       "      <td>15.64</td>\n",
       "      <td>24.61</td>\n",
       "      <td>60</td>\n",
       "      <td>1.070</td>\n",
       "      <td>70.0</td>\n",
       "      <td>NaN</td>\n",
       "      <td>Specific Gravity</td>\n",
       "      <td>All Grain</td>\n",
       "      <td>NaN</td>\n",
       "      <td>NaN</td>\n",
       "      <td>NaN</td>\n",
       "      <td>NaN</td>\n",
       "      <td>955.0</td>\n",
       "    </tr>\n",
       "    <tr>\n",
       "      <th>2</th>\n",
       "      <td>3</td>\n",
       "      <td>Zombie Dust Clone - EXTRACT</td>\n",
       "      <td>/homebrew/recipe/view/5920/zombie-dust-clone-e...</td>\n",
       "      <td>American IPA</td>\n",
       "      <td>7</td>\n",
       "      <td>18.93</td>\n",
       "      <td>1.063</td>\n",
       "      <td>1.018</td>\n",
       "      <td>5.91</td>\n",
       "      <td>59.25</td>\n",
       "      <td>8.98</td>\n",
       "      <td>22.71</td>\n",
       "      <td>60</td>\n",
       "      <td>NaN</td>\n",
       "      <td>70.0</td>\n",
       "      <td>NaN</td>\n",
       "      <td>Specific Gravity</td>\n",
       "      <td>extract</td>\n",
       "      <td>NaN</td>\n",
       "      <td>NaN</td>\n",
       "      <td>NaN</td>\n",
       "      <td>NaN</td>\n",
       "      <td>NaN</td>\n",
       "    </tr>\n",
       "  </tbody>\n",
       "</table>\n",
       "</div>"
      ],
      "text/plain": [
       "   BeerID                         Name                                                URL                               Style  StyleID  Size(L)     OG     FG   ABV    IBU  Color  BoilSize  BoilTime  BoilGravity  Efficiency  MashThickness        SugarScale BrewMethod  PitchRate  PrimaryTemp PrimingMethod PrimingAmount  UserId\n",
       "0       1            Vanilla Cream Ale       /homebrew/recipe/view/1633/vanilla-cream-ale                           Cream Ale       45    21.77  1.055  1.013  5.48  17.65   4.83     28.39        75        1.038        70.0            NaN  Specific Gravity  All Grain        NaN        17.78    corn sugar        4.5 oz   116.0\n",
       "1       2  Southern Tier Pumking clone  /homebrew/recipe/view/16367/southern-tier-pumk...  Holiday/Winter Special Spiced Beer       85    20.82  1.083  1.021  8.16  60.65  15.64     24.61        60        1.070        70.0            NaN  Specific Gravity  All Grain        NaN          NaN           NaN           NaN   955.0\n",
       "2       3  Zombie Dust Clone - EXTRACT  /homebrew/recipe/view/5920/zombie-dust-clone-e...                        American IPA        7    18.93  1.063  1.018  5.91  59.25   8.98     22.71        60          NaN        70.0            NaN  Specific Gravity    extract        NaN          NaN           NaN           NaN     NaN"
      ]
     },
     "execution_count": 2,
     "metadata": {},
     "output_type": "execute_result"
    }
   ],
   "source": [
    "dados = pd.read_csv('beerData.csv', encoding='ISO-8859-1')\n",
    "pd.set_option('display.max_columns', 25)\n",
    "pd.set_option('display.width', 1000)\n",
    "dados.head(3)"
   ]
  },
  {
   "cell_type": "markdown",
   "metadata": {},
   "source": [
    "<b>PRE-PROCESSAMENTO DATASET<b>"
   ]
  },
  {
   "cell_type": "code",
   "execution_count": 3,
   "metadata": {},
   "outputs": [
    {
     "data": {
      "text/plain": [
       "(73861, 23)"
      ]
     },
     "execution_count": 3,
     "metadata": {},
     "output_type": "execute_result"
    }
   ],
   "source": [
    "dados.shape"
   ]
  },
  {
   "cell_type": "code",
   "execution_count": 4,
   "metadata": {},
   "outputs": [
    {
     "data": {
      "text/plain": [
       "BeerID             int64\n",
       "Name              object\n",
       "URL               object\n",
       "Style             object\n",
       "StyleID            int64\n",
       "Size(L)          float64\n",
       "OG               float64\n",
       "FG               float64\n",
       "ABV              float64\n",
       "IBU              float64\n",
       "Color            float64\n",
       "BoilSize         float64\n",
       "BoilTime           int64\n",
       "BoilGravity      float64\n",
       "Efficiency       float64\n",
       "MashThickness    float64\n",
       "SugarScale        object\n",
       "BrewMethod        object\n",
       "PitchRate        float64\n",
       "PrimaryTemp      float64\n",
       "PrimingMethod     object\n",
       "PrimingAmount     object\n",
       "UserId           float64\n",
       "dtype: object"
      ]
     },
     "execution_count": 4,
     "metadata": {},
     "output_type": "execute_result"
    }
   ],
   "source": [
    "dados.dtypes"
   ]
  },
  {
   "cell_type": "code",
   "execution_count": 5,
   "metadata": {},
   "outputs": [
    {
     "data": {
      "text/plain": [
       "BeerID               0\n",
       "Name                 1\n",
       "URL                  0\n",
       "Style              596\n",
       "StyleID              0\n",
       "Size(L)              0\n",
       "OG                   0\n",
       "FG                   0\n",
       "ABV                  0\n",
       "IBU                  0\n",
       "Color                0\n",
       "BoilSize             0\n",
       "BoilTime             0\n",
       "BoilGravity       2990\n",
       "Efficiency           0\n",
       "MashThickness    29864\n",
       "SugarScale           0\n",
       "BrewMethod           0\n",
       "PitchRate        39252\n",
       "PrimaryTemp      22662\n",
       "PrimingMethod    67095\n",
       "PrimingAmount    69087\n",
       "UserId           50490\n",
       "dtype: int64"
      ]
     },
     "execution_count": 5,
     "metadata": {},
     "output_type": "execute_result"
    }
   ],
   "source": [
    "dados.isnull().sum()"
   ]
  },
  {
   "cell_type": "code",
   "execution_count": 6,
   "metadata": {},
   "outputs": [
    {
     "data": {
      "text/plain": [
       "BeerID            0.000000\n",
       "Name              0.001354\n",
       "URL               0.000000\n",
       "Style             0.806921\n",
       "StyleID           0.000000\n",
       "Size(L)           0.000000\n",
       "OG                0.000000\n",
       "FG                0.000000\n",
       "ABV               0.000000\n",
       "IBU               0.000000\n",
       "Color             0.000000\n",
       "BoilSize          0.000000\n",
       "BoilTime          0.000000\n",
       "BoilGravity       4.048144\n",
       "Efficiency        0.000000\n",
       "MashThickness    40.432705\n",
       "SugarScale        0.000000\n",
       "BrewMethod        0.000000\n",
       "PitchRate        53.143066\n",
       "PrimaryTemp      30.681957\n",
       "PrimingMethod    90.839550\n",
       "PrimingAmount    93.536508\n",
       "UserId           68.358132\n",
       "dtype: float64"
      ]
     },
     "execution_count": 6,
     "metadata": {},
     "output_type": "execute_result"
    }
   ],
   "source": [
    "faltantes = (dados.isnull().sum() / len(dados['BoilGravity'])) *100\n",
    "faltantes"
   ]
  },
  {
   "cell_type": "code",
   "execution_count": 7,
   "metadata": {},
   "outputs": [
    {
     "data": {
      "text/plain": [
       "7      11940\n",
       "10      7581\n",
       "134     2617\n",
       "9       2277\n",
       "4       2038\n",
       "       ...  \n",
       "99         6\n",
       "16         6\n",
       "127        5\n",
       "164        2\n",
       "73         2\n",
       "Name: StyleID, Length: 176, dtype: int64"
      ]
     },
     "execution_count": 7,
     "metadata": {},
     "output_type": "execute_result"
    }
   ],
   "source": [
    "dados['StyleID'].value_counts()"
   ]
  },
  {
   "cell_type": "code",
   "execution_count": 8,
   "metadata": {},
   "outputs": [],
   "source": [
    "#Filtrando classes. Manter apenas classes com mais de 1000 amostras:\n",
    "selecao = dados.loc[dados['StyleID'].isin([7,10,134,9,4,30,86,12,92,6,175,39])]  #Coletando as linhas em uma nova variavel"
   ]
  },
  {
   "cell_type": "code",
   "execution_count": 9,
   "metadata": {},
   "outputs": [
    {
     "data": {
      "text/plain": [
       "(35424, 23)"
      ]
     },
     "execution_count": 9,
     "metadata": {},
     "output_type": "execute_result"
    }
   ],
   "source": [
    "selecao.shape"
   ]
  },
  {
   "cell_type": "code",
   "execution_count": 10,
   "metadata": {},
   "outputs": [
    {
     "data": {
      "text/plain": [
       "BeerID           35424\n",
       "Name             35423\n",
       "URL              35424\n",
       "Style            35424\n",
       "StyleID          35424\n",
       "Size(L)          35424\n",
       "OG               35424\n",
       "FG               35424\n",
       "ABV              35424\n",
       "IBU              35424\n",
       "Color            35424\n",
       "BoilSize         35424\n",
       "BoilTime         35424\n",
       "BoilGravity      34124\n",
       "Efficiency       35424\n",
       "MashThickness    20929\n",
       "SugarScale       35424\n",
       "BrewMethod       35424\n",
       "PitchRate        15875\n",
       "PrimaryTemp      24159\n",
       "PrimingMethod     2890\n",
       "PrimingAmount     2055\n",
       "UserId           10868\n",
       "dtype: int64"
      ]
     },
     "execution_count": 10,
     "metadata": {},
     "output_type": "execute_result"
    }
   ],
   "source": [
    "selecao.count()"
   ]
  },
  {
   "cell_type": "code",
   "execution_count": 11,
   "metadata": {},
   "outputs": [],
   "source": [
    "selecao.drop('BeerID', axis=1, inplace=True)\n",
    "selecao.drop('Name', axis=1, inplace=True)\n",
    "selecao.drop('URL', axis=1, inplace=True)\n",
    "selecao.drop('Style', axis=1, inplace=True)\n",
    "selecao.drop('UserId', axis=1, inplace=True)\n",
    "selecao.drop('PrimingMethod', axis=1, inplace=True)\n",
    "selecao.drop('PrimingAmount', axis=1, inplace=True)"
   ]
  },
  {
   "cell_type": "code",
   "execution_count": 12,
   "metadata": {},
   "outputs": [
    {
     "data": {
      "text/html": [
       "<div>\n",
       "<style scoped>\n",
       "    .dataframe tbody tr th:only-of-type {\n",
       "        vertical-align: middle;\n",
       "    }\n",
       "\n",
       "    .dataframe tbody tr th {\n",
       "        vertical-align: top;\n",
       "    }\n",
       "\n",
       "    .dataframe thead th {\n",
       "        text-align: right;\n",
       "    }\n",
       "</style>\n",
       "<table border=\"1\" class=\"dataframe\">\n",
       "  <thead>\n",
       "    <tr style=\"text-align: right;\">\n",
       "      <th></th>\n",
       "      <th>StyleID</th>\n",
       "      <th>Size(L)</th>\n",
       "      <th>OG</th>\n",
       "      <th>FG</th>\n",
       "      <th>ABV</th>\n",
       "      <th>IBU</th>\n",
       "      <th>Color</th>\n",
       "      <th>BoilSize</th>\n",
       "      <th>BoilTime</th>\n",
       "      <th>BoilGravity</th>\n",
       "      <th>Efficiency</th>\n",
       "      <th>MashThickness</th>\n",
       "      <th>SugarScale</th>\n",
       "      <th>BrewMethod</th>\n",
       "      <th>PitchRate</th>\n",
       "      <th>PrimaryTemp</th>\n",
       "    </tr>\n",
       "  </thead>\n",
       "  <tbody>\n",
       "    <tr>\n",
       "      <th>2</th>\n",
       "      <td>7</td>\n",
       "      <td>18.93</td>\n",
       "      <td>1.063</td>\n",
       "      <td>1.018</td>\n",
       "      <td>5.91</td>\n",
       "      <td>59.25</td>\n",
       "      <td>8.98</td>\n",
       "      <td>22.71</td>\n",
       "      <td>60</td>\n",
       "      <td>NaN</td>\n",
       "      <td>70.0</td>\n",
       "      <td>NaN</td>\n",
       "      <td>Specific Gravity</td>\n",
       "      <td>extract</td>\n",
       "      <td>NaN</td>\n",
       "      <td>NaN</td>\n",
       "    </tr>\n",
       "    <tr>\n",
       "      <th>3</th>\n",
       "      <td>7</td>\n",
       "      <td>22.71</td>\n",
       "      <td>1.061</td>\n",
       "      <td>1.017</td>\n",
       "      <td>5.80</td>\n",
       "      <td>54.48</td>\n",
       "      <td>8.50</td>\n",
       "      <td>26.50</td>\n",
       "      <td>60</td>\n",
       "      <td>NaN</td>\n",
       "      <td>70.0</td>\n",
       "      <td>NaN</td>\n",
       "      <td>Specific Gravity</td>\n",
       "      <td>All Grain</td>\n",
       "      <td>NaN</td>\n",
       "      <td>NaN</td>\n",
       "    </tr>\n",
       "    <tr>\n",
       "      <th>5</th>\n",
       "      <td>10</td>\n",
       "      <td>24.61</td>\n",
       "      <td>1.055</td>\n",
       "      <td>1.013</td>\n",
       "      <td>5.58</td>\n",
       "      <td>40.12</td>\n",
       "      <td>8.00</td>\n",
       "      <td>29.34</td>\n",
       "      <td>70</td>\n",
       "      <td>1.047</td>\n",
       "      <td>79.0</td>\n",
       "      <td>NaN</td>\n",
       "      <td>Specific Gravity</td>\n",
       "      <td>All Grain</td>\n",
       "      <td>1.0</td>\n",
       "      <td>NaN</td>\n",
       "    </tr>\n",
       "  </tbody>\n",
       "</table>\n",
       "</div>"
      ],
      "text/plain": [
       "   StyleID  Size(L)     OG     FG   ABV    IBU  Color  BoilSize  BoilTime  BoilGravity  Efficiency  MashThickness        SugarScale BrewMethod  PitchRate  PrimaryTemp\n",
       "2        7    18.93  1.063  1.018  5.91  59.25   8.98     22.71        60          NaN        70.0            NaN  Specific Gravity    extract        NaN          NaN\n",
       "3        7    22.71  1.061  1.017  5.80  54.48   8.50     26.50        60          NaN        70.0            NaN  Specific Gravity  All Grain        NaN          NaN\n",
       "5       10    24.61  1.055  1.013  5.58  40.12   8.00     29.34        70        1.047        79.0            NaN  Specific Gravity  All Grain        1.0          NaN"
      ]
     },
     "execution_count": 12,
     "metadata": {},
     "output_type": "execute_result"
    }
   ],
   "source": [
    "selecao.head(3)"
   ]
  },
  {
   "cell_type": "code",
   "execution_count": 13,
   "metadata": {},
   "outputs": [
    {
     "data": {
      "text/plain": [
       "StyleID            int64\n",
       "Size(L)          float64\n",
       "OG               float64\n",
       "FG               float64\n",
       "ABV              float64\n",
       "IBU              float64\n",
       "Color            float64\n",
       "BoilSize         float64\n",
       "BoilTime           int64\n",
       "BoilGravity      float64\n",
       "Efficiency       float64\n",
       "MashThickness    float64\n",
       "SugarScale        object\n",
       "BrewMethod        object\n",
       "PitchRate        float64\n",
       "PrimaryTemp      float64\n",
       "dtype: object"
      ]
     },
     "execution_count": 13,
     "metadata": {},
     "output_type": "execute_result"
    }
   ],
   "source": [
    "selecao.dtypes"
   ]
  },
  {
   "cell_type": "code",
   "execution_count": 14,
   "metadata": {},
   "outputs": [
    {
     "data": {
      "text/html": [
       "<div>\n",
       "<style scoped>\n",
       "    .dataframe tbody tr th:only-of-type {\n",
       "        vertical-align: middle;\n",
       "    }\n",
       "\n",
       "    .dataframe tbody tr th {\n",
       "        vertical-align: top;\n",
       "    }\n",
       "\n",
       "    .dataframe thead th {\n",
       "        text-align: right;\n",
       "    }\n",
       "</style>\n",
       "<table border=\"1\" class=\"dataframe\">\n",
       "  <thead>\n",
       "    <tr style=\"text-align: right;\">\n",
       "      <th></th>\n",
       "      <th>StyleID</th>\n",
       "      <th>Size(L)</th>\n",
       "      <th>OG</th>\n",
       "      <th>FG</th>\n",
       "      <th>ABV</th>\n",
       "      <th>IBU</th>\n",
       "      <th>Color</th>\n",
       "      <th>BoilSize</th>\n",
       "      <th>BoilTime</th>\n",
       "      <th>BoilGravity</th>\n",
       "      <th>Efficiency</th>\n",
       "      <th>MashThickness</th>\n",
       "      <th>SugarScale</th>\n",
       "      <th>BrewMethod</th>\n",
       "      <th>PitchRate</th>\n",
       "      <th>PrimaryTemp</th>\n",
       "    </tr>\n",
       "  </thead>\n",
       "  <tbody>\n",
       "    <tr>\n",
       "      <th>2</th>\n",
       "      <td>7</td>\n",
       "      <td>18.93</td>\n",
       "      <td>1.063</td>\n",
       "      <td>1.018</td>\n",
       "      <td>5.91</td>\n",
       "      <td>59.25</td>\n",
       "      <td>8.98</td>\n",
       "      <td>22.71</td>\n",
       "      <td>60</td>\n",
       "      <td>NaN</td>\n",
       "      <td>70.0</td>\n",
       "      <td>NaN</td>\n",
       "      <td>Specific Gravity</td>\n",
       "      <td>extract</td>\n",
       "      <td>NaN</td>\n",
       "      <td>NaN</td>\n",
       "    </tr>\n",
       "    <tr>\n",
       "      <th>3</th>\n",
       "      <td>7</td>\n",
       "      <td>22.71</td>\n",
       "      <td>1.061</td>\n",
       "      <td>1.017</td>\n",
       "      <td>5.80</td>\n",
       "      <td>54.48</td>\n",
       "      <td>8.50</td>\n",
       "      <td>26.50</td>\n",
       "      <td>60</td>\n",
       "      <td>NaN</td>\n",
       "      <td>70.0</td>\n",
       "      <td>NaN</td>\n",
       "      <td>Specific Gravity</td>\n",
       "      <td>All Grain</td>\n",
       "      <td>NaN</td>\n",
       "      <td>NaN</td>\n",
       "    </tr>\n",
       "  </tbody>\n",
       "</table>\n",
       "</div>"
      ],
      "text/plain": [
       "   StyleID  Size(L)     OG     FG   ABV    IBU  Color  BoilSize  BoilTime  BoilGravity  Efficiency  MashThickness        SugarScale BrewMethod  PitchRate  PrimaryTemp\n",
       "2        7    18.93  1.063  1.018  5.91  59.25   8.98     22.71        60          NaN        70.0            NaN  Specific Gravity    extract        NaN          NaN\n",
       "3        7    22.71  1.061  1.017  5.80  54.48   8.50     26.50        60          NaN        70.0            NaN  Specific Gravity  All Grain        NaN          NaN"
      ]
     },
     "execution_count": 14,
     "metadata": {},
     "output_type": "execute_result"
    }
   ],
   "source": [
    "selecao.head(2)"
   ]
  },
  {
   "cell_type": "code",
   "execution_count": 15,
   "metadata": {},
   "outputs": [
    {
     "data": {
      "text/plain": [
       "Specific Gravity    34605\n",
       "Plato                 819\n",
       "Name: SugarScale, dtype: int64"
      ]
     },
     "execution_count": 15,
     "metadata": {},
     "output_type": "execute_result"
    }
   ],
   "source": [
    "#Vendo os valores das features com dados objects que precisam ser transformados em numericos. Se tiver muitos valores,\n",
    "# usar a funcao get_dummies. Se nao, usar replace.\n",
    "selecao['SugarScale'].value_counts()"
   ]
  },
  {
   "cell_type": "code",
   "execution_count": 16,
   "metadata": {},
   "outputs": [
    {
     "data": {
      "text/plain": [
       "All Grain       23594\n",
       "BIAB             5779\n",
       "extract          4377\n",
       "Partial Mash     1674\n",
       "Name: BrewMethod, dtype: int64"
      ]
     },
     "execution_count": 16,
     "metadata": {},
     "output_type": "execute_result"
    }
   ],
   "source": [
    "selecao['BrewMethod'].value_counts()"
   ]
  },
  {
   "cell_type": "code",
   "execution_count": 17,
   "metadata": {},
   "outputs": [],
   "source": [
    "#Transformando dados object da sfeatures em numericos, via funcao 'replace':\n",
    "#selecao['SugarScale'] = selecao['SugarScale'].replace('SpecificGravity', 0)\n",
    "selecao['SugarScale'] = selecao['SugarScale'].replace('Specific Gravity', 0)\n",
    "selecao['SugarScale'] = selecao['SugarScale'].replace('Plato', 1)"
   ]
  },
  {
   "cell_type": "code",
   "execution_count": 18,
   "metadata": {},
   "outputs": [],
   "source": [
    "#FAZENDO AS SUBSTITUICOES VIA METODO 'get_dummies' - Transformando dados object das features em dados numericos:\n",
    "colunaEncode = pd.get_dummies(selecao['BrewMethod'])"
   ]
  },
  {
   "cell_type": "code",
   "execution_count": 19,
   "metadata": {},
   "outputs": [
    {
     "data": {
      "text/html": [
       "<div>\n",
       "<style scoped>\n",
       "    .dataframe tbody tr th:only-of-type {\n",
       "        vertical-align: middle;\n",
       "    }\n",
       "\n",
       "    .dataframe tbody tr th {\n",
       "        vertical-align: top;\n",
       "    }\n",
       "\n",
       "    .dataframe thead th {\n",
       "        text-align: right;\n",
       "    }\n",
       "</style>\n",
       "<table border=\"1\" class=\"dataframe\">\n",
       "  <thead>\n",
       "    <tr style=\"text-align: right;\">\n",
       "      <th></th>\n",
       "      <th>All Grain</th>\n",
       "      <th>BIAB</th>\n",
       "      <th>Partial Mash</th>\n",
       "      <th>extract</th>\n",
       "    </tr>\n",
       "  </thead>\n",
       "  <tbody>\n",
       "    <tr>\n",
       "      <th>2</th>\n",
       "      <td>0</td>\n",
       "      <td>0</td>\n",
       "      <td>0</td>\n",
       "      <td>1</td>\n",
       "    </tr>\n",
       "    <tr>\n",
       "      <th>3</th>\n",
       "      <td>1</td>\n",
       "      <td>0</td>\n",
       "      <td>0</td>\n",
       "      <td>0</td>\n",
       "    </tr>\n",
       "  </tbody>\n",
       "</table>\n",
       "</div>"
      ],
      "text/plain": [
       "   All Grain  BIAB  Partial Mash  extract\n",
       "2          0     0             0        1\n",
       "3          1     0             0        0"
      ]
     },
     "execution_count": 19,
     "metadata": {},
     "output_type": "execute_result"
    }
   ],
   "source": [
    "colunaEncode.head(2)"
   ]
  },
  {
   "cell_type": "code",
   "execution_count": 20,
   "metadata": {},
   "outputs": [
    {
     "data": {
      "text/html": [
       "<div>\n",
       "<style scoped>\n",
       "    .dataframe tbody tr th:only-of-type {\n",
       "        vertical-align: middle;\n",
       "    }\n",
       "\n",
       "    .dataframe tbody tr th {\n",
       "        vertical-align: top;\n",
       "    }\n",
       "\n",
       "    .dataframe thead th {\n",
       "        text-align: right;\n",
       "    }\n",
       "</style>\n",
       "<table border=\"1\" class=\"dataframe\">\n",
       "  <thead>\n",
       "    <tr style=\"text-align: right;\">\n",
       "      <th></th>\n",
       "      <th>All Grain</th>\n",
       "      <th>BIAB</th>\n",
       "      <th>Partial Mash</th>\n",
       "      <th>extract</th>\n",
       "      <th>StyleID</th>\n",
       "      <th>Size(L)</th>\n",
       "      <th>OG</th>\n",
       "      <th>FG</th>\n",
       "      <th>ABV</th>\n",
       "      <th>IBU</th>\n",
       "      <th>Color</th>\n",
       "      <th>BoilSize</th>\n",
       "      <th>BoilTime</th>\n",
       "      <th>BoilGravity</th>\n",
       "      <th>Efficiency</th>\n",
       "      <th>MashThickness</th>\n",
       "      <th>SugarScale</th>\n",
       "      <th>BrewMethod</th>\n",
       "      <th>PitchRate</th>\n",
       "      <th>PrimaryTemp</th>\n",
       "    </tr>\n",
       "  </thead>\n",
       "  <tbody>\n",
       "    <tr>\n",
       "      <th>2</th>\n",
       "      <td>0</td>\n",
       "      <td>0</td>\n",
       "      <td>0</td>\n",
       "      <td>1</td>\n",
       "      <td>7</td>\n",
       "      <td>18.93</td>\n",
       "      <td>1.063</td>\n",
       "      <td>1.018</td>\n",
       "      <td>5.91</td>\n",
       "      <td>59.25</td>\n",
       "      <td>8.98</td>\n",
       "      <td>22.71</td>\n",
       "      <td>60</td>\n",
       "      <td>NaN</td>\n",
       "      <td>70.0</td>\n",
       "      <td>NaN</td>\n",
       "      <td>0</td>\n",
       "      <td>extract</td>\n",
       "      <td>NaN</td>\n",
       "      <td>NaN</td>\n",
       "    </tr>\n",
       "    <tr>\n",
       "      <th>3</th>\n",
       "      <td>1</td>\n",
       "      <td>0</td>\n",
       "      <td>0</td>\n",
       "      <td>0</td>\n",
       "      <td>7</td>\n",
       "      <td>22.71</td>\n",
       "      <td>1.061</td>\n",
       "      <td>1.017</td>\n",
       "      <td>5.80</td>\n",
       "      <td>54.48</td>\n",
       "      <td>8.50</td>\n",
       "      <td>26.50</td>\n",
       "      <td>60</td>\n",
       "      <td>NaN</td>\n",
       "      <td>70.0</td>\n",
       "      <td>NaN</td>\n",
       "      <td>0</td>\n",
       "      <td>All Grain</td>\n",
       "      <td>NaN</td>\n",
       "      <td>NaN</td>\n",
       "    </tr>\n",
       "    <tr>\n",
       "      <th>5</th>\n",
       "      <td>1</td>\n",
       "      <td>0</td>\n",
       "      <td>0</td>\n",
       "      <td>0</td>\n",
       "      <td>10</td>\n",
       "      <td>24.61</td>\n",
       "      <td>1.055</td>\n",
       "      <td>1.013</td>\n",
       "      <td>5.58</td>\n",
       "      <td>40.12</td>\n",
       "      <td>8.00</td>\n",
       "      <td>29.34</td>\n",
       "      <td>70</td>\n",
       "      <td>1.047</td>\n",
       "      <td>79.0</td>\n",
       "      <td>NaN</td>\n",
       "      <td>0</td>\n",
       "      <td>All Grain</td>\n",
       "      <td>1.0</td>\n",
       "      <td>NaN</td>\n",
       "    </tr>\n",
       "    <tr>\n",
       "      <th>6</th>\n",
       "      <td>1</td>\n",
       "      <td>0</td>\n",
       "      <td>0</td>\n",
       "      <td>0</td>\n",
       "      <td>86</td>\n",
       "      <td>22.71</td>\n",
       "      <td>1.072</td>\n",
       "      <td>1.018</td>\n",
       "      <td>7.09</td>\n",
       "      <td>268.71</td>\n",
       "      <td>6.33</td>\n",
       "      <td>30.28</td>\n",
       "      <td>90</td>\n",
       "      <td>NaN</td>\n",
       "      <td>75.0</td>\n",
       "      <td>NaN</td>\n",
       "      <td>0</td>\n",
       "      <td>All Grain</td>\n",
       "      <td>NaN</td>\n",
       "      <td>NaN</td>\n",
       "    </tr>\n",
       "    <tr>\n",
       "      <th>9</th>\n",
       "      <td>1</td>\n",
       "      <td>0</td>\n",
       "      <td>0</td>\n",
       "      <td>0</td>\n",
       "      <td>86</td>\n",
       "      <td>20.82</td>\n",
       "      <td>1.080</td>\n",
       "      <td>1.017</td>\n",
       "      <td>8.22</td>\n",
       "      <td>93.02</td>\n",
       "      <td>8.29</td>\n",
       "      <td>28.39</td>\n",
       "      <td>60</td>\n",
       "      <td>1.058</td>\n",
       "      <td>70.0</td>\n",
       "      <td>NaN</td>\n",
       "      <td>0</td>\n",
       "      <td>All Grain</td>\n",
       "      <td>NaN</td>\n",
       "      <td>21.11</td>\n",
       "    </tr>\n",
       "  </tbody>\n",
       "</table>\n",
       "</div>"
      ],
      "text/plain": [
       "   All Grain  BIAB  Partial Mash  extract  StyleID  Size(L)     OG     FG   ABV     IBU  Color  BoilSize  BoilTime  BoilGravity  Efficiency  MashThickness  SugarScale BrewMethod  PitchRate  PrimaryTemp\n",
       "2          0     0             0        1        7    18.93  1.063  1.018  5.91   59.25   8.98     22.71        60          NaN        70.0            NaN           0    extract        NaN          NaN\n",
       "3          1     0             0        0        7    22.71  1.061  1.017  5.80   54.48   8.50     26.50        60          NaN        70.0            NaN           0  All Grain        NaN          NaN\n",
       "5          1     0             0        0       10    24.61  1.055  1.013  5.58   40.12   8.00     29.34        70        1.047        79.0            NaN           0  All Grain        1.0          NaN\n",
       "6          1     0             0        0       86    22.71  1.072  1.018  7.09  268.71   6.33     30.28        90          NaN        75.0            NaN           0  All Grain        NaN          NaN\n",
       "9          1     0             0        0       86    20.82  1.080  1.017  8.22   93.02   8.29     28.39        60        1.058        70.0            NaN           0  All Grain        NaN        21.11"
      ]
     },
     "execution_count": 20,
     "metadata": {},
     "output_type": "execute_result"
    }
   ],
   "source": [
    "selecaoAtualizada = pd.concat([colunaEncode, selecao], axis=1)\n",
    "selecaoAtualizada.head()"
   ]
  },
  {
   "cell_type": "code",
   "execution_count": 21,
   "metadata": {},
   "outputs": [],
   "source": [
    "#Concatenando dados ajustados a selecao e removendo feature antiga:\n",
    "selecaoAtualizada.drop('BrewMethod', axis=1, inplace=True)"
   ]
  },
  {
   "cell_type": "code",
   "execution_count": 22,
   "metadata": {},
   "outputs": [
    {
     "data": {
      "text/html": [
       "<div>\n",
       "<style scoped>\n",
       "    .dataframe tbody tr th:only-of-type {\n",
       "        vertical-align: middle;\n",
       "    }\n",
       "\n",
       "    .dataframe tbody tr th {\n",
       "        vertical-align: top;\n",
       "    }\n",
       "\n",
       "    .dataframe thead th {\n",
       "        text-align: right;\n",
       "    }\n",
       "</style>\n",
       "<table border=\"1\" class=\"dataframe\">\n",
       "  <thead>\n",
       "    <tr style=\"text-align: right;\">\n",
       "      <th></th>\n",
       "      <th>All Grain</th>\n",
       "      <th>BIAB</th>\n",
       "      <th>Partial Mash</th>\n",
       "      <th>extract</th>\n",
       "      <th>StyleID</th>\n",
       "      <th>Size(L)</th>\n",
       "      <th>OG</th>\n",
       "      <th>FG</th>\n",
       "      <th>ABV</th>\n",
       "      <th>IBU</th>\n",
       "      <th>Color</th>\n",
       "      <th>BoilSize</th>\n",
       "      <th>BoilTime</th>\n",
       "      <th>BoilGravity</th>\n",
       "      <th>Efficiency</th>\n",
       "      <th>MashThickness</th>\n",
       "      <th>SugarScale</th>\n",
       "      <th>PitchRate</th>\n",
       "      <th>PrimaryTemp</th>\n",
       "    </tr>\n",
       "  </thead>\n",
       "  <tbody>\n",
       "    <tr>\n",
       "      <th>2</th>\n",
       "      <td>0</td>\n",
       "      <td>0</td>\n",
       "      <td>0</td>\n",
       "      <td>1</td>\n",
       "      <td>7</td>\n",
       "      <td>18.93</td>\n",
       "      <td>1.063</td>\n",
       "      <td>1.018</td>\n",
       "      <td>5.91</td>\n",
       "      <td>59.25</td>\n",
       "      <td>8.98</td>\n",
       "      <td>22.71</td>\n",
       "      <td>60</td>\n",
       "      <td>NaN</td>\n",
       "      <td>70.0</td>\n",
       "      <td>NaN</td>\n",
       "      <td>0</td>\n",
       "      <td>NaN</td>\n",
       "      <td>NaN</td>\n",
       "    </tr>\n",
       "    <tr>\n",
       "      <th>3</th>\n",
       "      <td>1</td>\n",
       "      <td>0</td>\n",
       "      <td>0</td>\n",
       "      <td>0</td>\n",
       "      <td>7</td>\n",
       "      <td>22.71</td>\n",
       "      <td>1.061</td>\n",
       "      <td>1.017</td>\n",
       "      <td>5.80</td>\n",
       "      <td>54.48</td>\n",
       "      <td>8.50</td>\n",
       "      <td>26.50</td>\n",
       "      <td>60</td>\n",
       "      <td>NaN</td>\n",
       "      <td>70.0</td>\n",
       "      <td>NaN</td>\n",
       "      <td>0</td>\n",
       "      <td>NaN</td>\n",
       "      <td>NaN</td>\n",
       "    </tr>\n",
       "  </tbody>\n",
       "</table>\n",
       "</div>"
      ],
      "text/plain": [
       "   All Grain  BIAB  Partial Mash  extract  StyleID  Size(L)     OG     FG   ABV    IBU  Color  BoilSize  BoilTime  BoilGravity  Efficiency  MashThickness  SugarScale  PitchRate  PrimaryTemp\n",
       "2          0     0             0        1        7    18.93  1.063  1.018  5.91  59.25   8.98     22.71        60          NaN        70.0            NaN           0        NaN          NaN\n",
       "3          1     0             0        0        7    22.71  1.061  1.017  5.80  54.48   8.50     26.50        60          NaN        70.0            NaN           0        NaN          NaN"
      ]
     },
     "execution_count": 22,
     "metadata": {},
     "output_type": "execute_result"
    }
   ],
   "source": [
    "selecaoAtualizada.head(2)"
   ]
  },
  {
   "cell_type": "markdown",
   "metadata": {},
   "source": [
    "# SUBSTITUINDO DADOS MISSING ATRAVES DE MODELO DE REGRESSAO"
   ]
  },
  {
   "cell_type": "markdown",
   "metadata": {},
   "source": [
    "* A IDEIA E TRANSFORMAR UMA DAS VARIAVEIS COM MAIS DADOS FALTANTES(no caso deste dataset, a variavel 'PITCH RATE') EM UMA VARIAVEL TARGET E SUBSTIUIR OS DADOS MISSING DAS RESTANTES PELA MEDIA ou MEDIANA, TORNANDO-AS VARIAVEIS PREDITORAS. \n",
    "1. PODEMOS EXCLUIR DUAS VARIAVEIS('Mash' e 'Primary') COM BASTANTE DADOS MISSING E SUBSTITUIR DADOS MISSING DE UMA TERCEIRA ('Boil') PELA MEDIA/MEDIANA OU SUBSTITUIMOS OS VALORES DAS 3 PELA MEDIA/MEDIANA, DEIXANDO APENAS A 'PitchRate' PARA SER TRANSFORMADA EM TARGET.\n",
    "2. CRIA-SE BASE DE TREINO E TESTE FILTRANDO APENAS OS DADOS NAO NULOS DA VARIAVEL TARGET"
   ]
  },
  {
   "cell_type": "code",
   "execution_count": 23,
   "metadata": {
    "scrolled": true
   },
   "outputs": [
    {
     "data": {
      "text/plain": [
       "All Grain            0\n",
       "BIAB                 0\n",
       "Partial Mash         0\n",
       "extract              0\n",
       "StyleID              0\n",
       "Size(L)              0\n",
       "OG                   0\n",
       "FG                   0\n",
       "ABV                  0\n",
       "IBU                  0\n",
       "Color                0\n",
       "BoilSize             0\n",
       "BoilTime             0\n",
       "BoilGravity       1300\n",
       "Efficiency           0\n",
       "MashThickness    14495\n",
       "SugarScale           0\n",
       "PitchRate        19549\n",
       "PrimaryTemp      11265\n",
       "dtype: int64"
      ]
     },
     "execution_count": 23,
     "metadata": {},
     "output_type": "execute_result"
    }
   ],
   "source": [
    "selecaoAtualizada.isnull().sum()"
   ]
  },
  {
   "cell_type": "code",
   "execution_count": 24,
   "metadata": {},
   "outputs": [
    {
     "data": {
      "text/plain": [
       "All Grain         0.000000\n",
       "BIAB              0.000000\n",
       "Partial Mash      0.000000\n",
       "extract           0.000000\n",
       "StyleID           0.000000\n",
       "Size(L)           0.000000\n",
       "OG                0.000000\n",
       "FG                0.000000\n",
       "ABV               0.000000\n",
       "IBU               0.000000\n",
       "Color             0.000000\n",
       "BoilSize          0.000000\n",
       "BoilTime          0.000000\n",
       "BoilGravity       3.669828\n",
       "Efficiency        0.000000\n",
       "MashThickness    40.918586\n",
       "SugarScale        0.000000\n",
       "PitchRate        55.185750\n",
       "PrimaryTemp      31.800474\n",
       "dtype: float64"
      ]
     },
     "execution_count": 24,
     "metadata": {},
     "output_type": "execute_result"
    }
   ],
   "source": [
    "selecao_pctNan = selecaoAtualizada.isnull().sum() / len(selecao['Color'])*100\n",
    "selecao_pctNan"
   ]
  },
  {
   "cell_type": "code",
   "execution_count": 26,
   "metadata": {},
   "outputs": [
    {
     "data": {
      "image/png": "[encoded data removed]",
      "text/plain": [
       "<Figure size 432x288 with 1 Axes>"
      ]
     },
     "metadata": {
      "needs_background": "light"
     },
     "output_type": "display_data"
    }
   ],
   "source": [
    "#Ver boxplots(para ver os outliers) e histogramas(para ver se e melhor substituir pela media ou por medianas).\n",
    "selecaoAtualizada.boxplot(column=['MashThickness', 'PrimaryTemp', 'PitchRate', 'BoilGravity'])\n",
    "plt.show()\n",
    "#PitchRate contem menos outliers."
   ]
  },
  {
   "cell_type": "code",
   "execution_count": 27,
   "metadata": {},
   "outputs": [
    {
     "data": {
      "text/plain": [
       "array([[<AxesSubplot:title={'center':'MashThickness'}>,\n",
       "        <AxesSubplot:title={'center':'PrimaryTemp'}>],\n",
       "       [<AxesSubplot:title={'center':'PitchRate'}>,\n",
       "        <AxesSubplot:title={'center':'BoilGravity'}>]], dtype=object)"
      ]
     },
     "execution_count": 27,
     "metadata": {},
     "output_type": "execute_result"
    },
    {
     "data": {
      "image/png": "[encoded data removed]",
      "text/plain": [
       "<Figure size 432x288 with 4 Axes>"
      ]
     },
     "metadata": {
      "needs_background": "light"
     },
     "output_type": "display_data"
    }
   ],
   "source": [
    "selecaoAtualizada.hist(column=['MashThickness', 'PrimaryTemp', 'PitchRate', 'BoilGravity'])"
   ]
  },
  {
   "cell_type": "code",
   "execution_count": 28,
   "metadata": {},
   "outputs": [],
   "source": [
    "#Metodo 1: substituindo as 3 variaveis crestantes comd ados missing pela mediana:\n",
    "selecaoAtualizada['MashThickness'].fillna(selecaoAtualizada['MashThickness'].median(), inplace=True)\n",
    "selecaoAtualizada['BoilGravity'].fillna(selecaoAtualizada['BoilGravity'].median(), inplace=True)\n",
    "selecaoAtualizada['PrimaryTemp'].fillna(selecaoAtualizada['PrimaryTemp'].median(), inplace=True)"
   ]
  },
  {
   "cell_type": "markdown",
   "metadata": {},
   "source": [
    "#Metodo 2: consistiria em exluir as 2 variaveis restantes com dado missing dos dados de treino e teste (nao do dataset!) e substituindo a com menos dados missing pela mediana:\n",
    "* x_treino2.drop('MashThickness', axis=1, inplace=True)\n",
    "* y_treino2.drop('PrimaryTemp', axis=1, inplace=True)\n",
    "* x_teste2.drop('MashThickness', axis=1, inplace=True)\n",
    "* y_novo.drop('PrimaryTemp', axis=1, inplace=True)\n",
    "* selecao['BoilGravity'].fillna(selecaoAtualizada['BoilGravity'].median(), inplace=True)"
   ]
  },
  {
   "cell_type": "code",
   "execution_count": 30,
   "metadata": {},
   "outputs": [],
   "source": [
    "#Criando bases de treino e teste para transformar variavel em target e considerando apenas dados que nao sao nulos da target:\n",
    "x_treino2 = selecaoAtualizada[selecaoAtualizada['PitchRate'].notnull()]   #criando preditoras apenas considerandod ados nao nulos \n",
    "x_treino2.drop('PitchRate', axis=1, inplace=True)   \n",
    "y_treino2 = selecaoAtualizada[selecaoAtualizada['PitchRate'].notnull()]['PitchRate'] #criando target\n",
    "\n",
    "#Criando variaveis 'teste' onde serao jogados os dados nulos e testados pelo modelo de regressao:\n",
    "x_teste2 = selecaoAtualizada[selecaoAtualizada['PitchRate'].isnull()]      #teste para modelo de regressao\n",
    "y_novo = selecaoAtualizada[selecaoAtualizada['PitchRate'].isnull()]['PitchRate']  #variavel que recebera os novos valores\n",
    "x_teste2.drop('PitchRate', axis=1, inplace=True)  "
   ]
  },
  {
   "cell_type": "code",
   "execution_count": 31,
   "metadata": {},
   "outputs": [],
   "source": [
    "#Aplicando modelo de regressao nos dados missing:\n",
    "import numpy as np\n",
    "from sklearn.tree import DecisionTreeRegressor\n",
    "treeRegr = DecisionTreeRegressor() #Instanciando modelo\n",
    "\n",
    "treeRegr.fit(x_treino2, y_treino2) #Aplicando modelo nos dados de treino\n",
    "\n",
    "y_novo = treeRegr.predict(x_teste2)  #Prevendo valores de 'teste'"
   ]
  },
  {
   "cell_type": "code",
   "execution_count": 34,
   "metadata": {},
   "outputs": [],
   "source": [
    "selecaoAtualizada.PitchRate[selecaoAtualizada.PitchRate.isnull()] = y_novo\n",
    "#printando resultado na variavel y_novo: variavel que armazena novo valores previstos dos dados missing e treinados em x_teste2."
   ]
  },
  {
   "cell_type": "markdown",
   "metadata": {},
   "source": [
    "<b>VISUALIZANDO RESULTADO DE DADOS MISSING SUBSTITUIDOS POR DADOS PREVISTOS POR MODELO DE REGRESSAO NA VARIAVEL TARGET('PITCH RATE')"
   ]
  },
  {
   "cell_type": "code",
   "execution_count": 36,
   "metadata": {},
   "outputs": [
    {
     "data": {
      "text/html": [
       "<div>\n",
       "<style scoped>\n",
       "    .dataframe tbody tr th:only-of-type {\n",
       "        vertical-align: middle;\n",
       "    }\n",
       "\n",
       "    .dataframe tbody tr th {\n",
       "        vertical-align: top;\n",
       "    }\n",
       "\n",
       "    .dataframe thead th {\n",
       "        text-align: right;\n",
       "    }\n",
       "</style>\n",
       "<table border=\"1\" class=\"dataframe\">\n",
       "  <thead>\n",
       "    <tr style=\"text-align: right;\">\n",
       "      <th></th>\n",
       "      <th>All Grain</th>\n",
       "      <th>BIAB</th>\n",
       "      <th>Partial Mash</th>\n",
       "      <th>extract</th>\n",
       "      <th>StyleID</th>\n",
       "      <th>Size(L)</th>\n",
       "      <th>OG</th>\n",
       "      <th>FG</th>\n",
       "      <th>ABV</th>\n",
       "      <th>IBU</th>\n",
       "      <th>Color</th>\n",
       "      <th>BoilSize</th>\n",
       "      <th>BoilTime</th>\n",
       "      <th>BoilGravity</th>\n",
       "      <th>Efficiency</th>\n",
       "      <th>MashThickness</th>\n",
       "      <th>SugarScale</th>\n",
       "      <th>PitchRate</th>\n",
       "      <th>PrimaryTemp</th>\n",
       "    </tr>\n",
       "  </thead>\n",
       "  <tbody>\n",
       "    <tr>\n",
       "      <th>2</th>\n",
       "      <td>0</td>\n",
       "      <td>0</td>\n",
       "      <td>0</td>\n",
       "      <td>1</td>\n",
       "      <td>7</td>\n",
       "      <td>18.93</td>\n",
       "      <td>1.063</td>\n",
       "      <td>1.018</td>\n",
       "      <td>5.91</td>\n",
       "      <td>59.25</td>\n",
       "      <td>8.98</td>\n",
       "      <td>22.71</td>\n",
       "      <td>60</td>\n",
       "      <td>1.047</td>\n",
       "      <td>70.0</td>\n",
       "      <td>1.5</td>\n",
       "      <td>0</td>\n",
       "      <td>0.35</td>\n",
       "      <td>20.00</td>\n",
       "    </tr>\n",
       "    <tr>\n",
       "      <th>3</th>\n",
       "      <td>1</td>\n",
       "      <td>0</td>\n",
       "      <td>0</td>\n",
       "      <td>0</td>\n",
       "      <td>7</td>\n",
       "      <td>22.71</td>\n",
       "      <td>1.061</td>\n",
       "      <td>1.017</td>\n",
       "      <td>5.80</td>\n",
       "      <td>54.48</td>\n",
       "      <td>8.50</td>\n",
       "      <td>26.50</td>\n",
       "      <td>60</td>\n",
       "      <td>1.047</td>\n",
       "      <td>70.0</td>\n",
       "      <td>1.5</td>\n",
       "      <td>0</td>\n",
       "      <td>0.35</td>\n",
       "      <td>20.00</td>\n",
       "    </tr>\n",
       "    <tr>\n",
       "      <th>5</th>\n",
       "      <td>1</td>\n",
       "      <td>0</td>\n",
       "      <td>0</td>\n",
       "      <td>0</td>\n",
       "      <td>10</td>\n",
       "      <td>24.61</td>\n",
       "      <td>1.055</td>\n",
       "      <td>1.013</td>\n",
       "      <td>5.58</td>\n",
       "      <td>40.12</td>\n",
       "      <td>8.00</td>\n",
       "      <td>29.34</td>\n",
       "      <td>70</td>\n",
       "      <td>1.047</td>\n",
       "      <td>79.0</td>\n",
       "      <td>1.5</td>\n",
       "      <td>0</td>\n",
       "      <td>1.00</td>\n",
       "      <td>20.00</td>\n",
       "    </tr>\n",
       "    <tr>\n",
       "      <th>6</th>\n",
       "      <td>1</td>\n",
       "      <td>0</td>\n",
       "      <td>0</td>\n",
       "      <td>0</td>\n",
       "      <td>86</td>\n",
       "      <td>22.71</td>\n",
       "      <td>1.072</td>\n",
       "      <td>1.018</td>\n",
       "      <td>7.09</td>\n",
       "      <td>268.71</td>\n",
       "      <td>6.33</td>\n",
       "      <td>30.28</td>\n",
       "      <td>90</td>\n",
       "      <td>1.047</td>\n",
       "      <td>75.0</td>\n",
       "      <td>1.5</td>\n",
       "      <td>0</td>\n",
       "      <td>0.75</td>\n",
       "      <td>20.00</td>\n",
       "    </tr>\n",
       "    <tr>\n",
       "      <th>9</th>\n",
       "      <td>1</td>\n",
       "      <td>0</td>\n",
       "      <td>0</td>\n",
       "      <td>0</td>\n",
       "      <td>86</td>\n",
       "      <td>20.82</td>\n",
       "      <td>1.080</td>\n",
       "      <td>1.017</td>\n",
       "      <td>8.22</td>\n",
       "      <td>93.02</td>\n",
       "      <td>8.29</td>\n",
       "      <td>28.39</td>\n",
       "      <td>60</td>\n",
       "      <td>1.058</td>\n",
       "      <td>70.0</td>\n",
       "      <td>1.5</td>\n",
       "      <td>0</td>\n",
       "      <td>0.50</td>\n",
       "      <td>21.11</td>\n",
       "    </tr>\n",
       "  </tbody>\n",
       "</table>\n",
       "</div>"
      ],
      "text/plain": [
       "   All Grain  BIAB  Partial Mash  extract  StyleID  Size(L)     OG     FG   ABV     IBU  Color  BoilSize  BoilTime  BoilGravity  Efficiency  MashThickness  SugarScale  PitchRate  PrimaryTemp\n",
       "2          0     0             0        1        7    18.93  1.063  1.018  5.91   59.25   8.98     22.71        60        1.047        70.0            1.5           0       0.35        20.00\n",
       "3          1     0             0        0        7    22.71  1.061  1.017  5.80   54.48   8.50     26.50        60        1.047        70.0            1.5           0       0.35        20.00\n",
       "5          1     0             0        0       10    24.61  1.055  1.013  5.58   40.12   8.00     29.34        70        1.047        79.0            1.5           0       1.00        20.00\n",
       "6          1     0             0        0       86    22.71  1.072  1.018  7.09  268.71   6.33     30.28        90        1.047        75.0            1.5           0       0.75        20.00\n",
       "9          1     0             0        0       86    20.82  1.080  1.017  8.22   93.02   8.29     28.39        60        1.058        70.0            1.5           0       0.50        21.11"
      ]
     },
     "execution_count": 36,
     "metadata": {},
     "output_type": "execute_result"
    }
   ],
   "source": [
    "selecaoAtualizada.head()"
   ]
  },
  {
   "cell_type": "code",
   "execution_count": 37,
   "metadata": {},
   "outputs": [
    {
     "data": {
      "text/plain": [
       "All Grain        0\n",
       "BIAB             0\n",
       "Partial Mash     0\n",
       "extract          0\n",
       "StyleID          0\n",
       "Size(L)          0\n",
       "OG               0\n",
       "FG               0\n",
       "ABV              0\n",
       "IBU              0\n",
       "Color            0\n",
       "BoilSize         0\n",
       "BoilTime         0\n",
       "BoilGravity      0\n",
       "Efficiency       0\n",
       "MashThickness    0\n",
       "SugarScale       0\n",
       "PitchRate        0\n",
       "PrimaryTemp      0\n",
       "dtype: int64"
      ]
     },
     "execution_count": 37,
     "metadata": {},
     "output_type": "execute_result"
    }
   ],
   "source": [
    "selecaoAtualizada.isnull().sum()"
   ]
  },
  {
   "cell_type": "code",
   "execution_count": 35,
   "metadata": {},
   "outputs": [],
   "source": [
    "#Criando copia do dataset pre-processado:\n",
    "selecaoAtualizada.to_csv('Beerdataset_ready.csv')"
   ]
  },
  {
   "cell_type": "markdown",
   "metadata": {},
   "source": [
    "<b>MACHINE LEARNING: Bibliotecas, variaveis target/preditora, modelos<b>"
   ]
  },
  {
   "cell_type": "code",
   "execution_count": 36,
   "metadata": {},
   "outputs": [],
   "source": [
    "#Importando bibliotecas necessarias:\n",
    "from sklearn.model_selection import train_test_split\n",
    "from sklearn.model_selection import cross_val_score\n",
    "from sklearn.model_selection import KFold\n",
    "from sklearn.model_selection import StratifiedKFold\n",
    "from sklearn.preprocessing import MinMaxScaler\n",
    "from sklearn.linear_model import LogisticRegression\n",
    "from sklearn.tree import DecisionTreeClassifier\n",
    "from sklearn.neighbors import KNeighborsClassifier\n",
    "from sklearn.naive_bayes import GaussianNB"
   ]
  },
  {
   "cell_type": "code",
   "execution_count": 37,
   "metadata": {},
   "outputs": [],
   "source": [
    "#Criando variaveis preditoras/target:\n",
    "y = selecaoAtualizada['StyleID']\n",
    "x = selecaoAtualizada.drop('StyleID', axis=1)"
   ]
  },
  {
   "cell_type": "code",
   "execution_count": 38,
   "metadata": {},
   "outputs": [],
   "source": [
    "def models(a, b):\n",
    "    from sklearn.model_selection import train_test_split\n",
    "    from sklearn.model_selection import cross_val_score\n",
    "    from sklearn.model_selection import KFold\n",
    "    from sklearn.model_selection import StratifiedKFold\n",
    "    from sklearn.preprocessing import MinMaxScaler\n",
    "    from sklearn.linear_model import LogisticRegression\n",
    "    from sklearn.tree import DecisionTreeClassifier\n",
    "    from sklearn.neighbors import KNeighborsClassifier\n",
    "    from sklearn.naive_bayes import GaussianNB\n",
    "    skfold = StratifiedKFold(n_splits=3)\n",
    "    x = a\n",
    "    y = b\n",
    "    \n",
    "    normalizador = MinMaxScaler(feature_range=(0,1))\n",
    "    x_norm = normalizador.fit_transform(x)\n",
    "    \n",
    "    logist = LogisticRegression()\n",
    "    naive = GaussianNB()\n",
    "    dtree = DecisionTreeClassifier()\n",
    "    knn = KNeighborsClassifier()\n",
    "    \n",
    "    resulLogist = cross_val_score(logist, x, y, cv = skfold)\n",
    "    resulNaive = cross_val_score(naive, x, y, cv = skfold)\n",
    "    resulDtree = cross_val_score(dtree, x, y, cv = skfold)\n",
    "    resulKnn = cross_val_score(knn, x, y, cv = skfold)\n",
    "    \n",
    "    dicios = {'R_logis': resulLogist.mean(), 'R_Naive': resulNaive.mean(), \n",
    "              'R_Dtree': resulDtree.mean(), 'R_Knn': resulKnn.mean()}\n",
    "    best_model = max(dicios, key=dicios.get)\n",
    "    \n",
    "    print('Regressao Logistica:', resulLogist.mean(), 'Naive Bayes:', resulNaive.mean(), \n",
    "          'Decision Tree:', resulDtree.mean(), 'KNN:', resulKnn.mean())\n",
    "    print('Melhor Modelo:', best_model)\n",
    "    print('Score do Melhor Modelo:', dicios[best_model])\n",
    "    "
   ]
  },
  {
   "cell_type": "code",
   "execution_count": 39,
   "metadata": {},
   "outputs": [
    {
     "name": "stderr",
     "output_type": "stream",
     "text": [
      "C:\\Users\\sylvi\\Anaconda3\\lib\\site-packages\\sklearn\\linear_model\\_logistic.py:762: ConvergenceWarning: lbfgs failed to converge (status=1):\n",
      "STOP: TOTAL NO. of ITERATIONS REACHED LIMIT.\n",
      "\n",
      "Increase the number of iterations (max_iter) or scale the data as shown in:\n",
      "    https://scikit-learn.org/stable/modules/preprocessing.html\n",
      "Please also refer to the documentation for alternative solver options:\n",
      "    https://scikit-learn.org/stable/modules/linear_model.html#logistic-regression\n",
      "  n_iter_i = _check_optimize_result(\n",
      "C:\\Users\\sylvi\\Anaconda3\\lib\\site-packages\\sklearn\\linear_model\\_logistic.py:762: ConvergenceWarning: lbfgs failed to converge (status=1):\n",
      "STOP: TOTAL NO. of ITERATIONS REACHED LIMIT.\n",
      "\n",
      "Increase the number of iterations (max_iter) or scale the data as shown in:\n",
      "    https://scikit-learn.org/stable/modules/preprocessing.html\n",
      "Please also refer to the documentation for alternative solver options:\n",
      "    https://scikit-learn.org/stable/modules/linear_model.html#logistic-regression\n",
      "  n_iter_i = _check_optimize_result(\n",
      "C:\\Users\\sylvi\\Anaconda3\\lib\\site-packages\\sklearn\\linear_model\\_logistic.py:762: ConvergenceWarning: lbfgs failed to converge (status=1):\n",
      "STOP: TOTAL NO. of ITERATIONS REACHED LIMIT.\n",
      "\n",
      "Increase the number of iterations (max_iter) or scale the data as shown in:\n",
      "    https://scikit-learn.org/stable/modules/preprocessing.html\n",
      "Please also refer to the documentation for alternative solver options:\n",
      "    https://scikit-learn.org/stable/modules/linear_model.html#logistic-regression\n",
      "  n_iter_i = _check_optimize_result(\n"
     ]
    },
    {
     "name": "stdout",
     "output_type": "stream",
     "text": [
      "Regressao Logistica: 0.4469286359530262 Naive Bayes: 0.4171465672990063 Decision Tree: 0.4718552393857272 KNN: 0.5079889340560072\n",
      "Melhor Modelo: R_Knn\n",
      "Score do Melhor Modelo: 0.5079889340560072\n"
     ]
    }
   ],
   "source": [
    "models(x,y)"
   ]
  },
  {
   "cell_type": "markdown",
   "metadata": {},
   "source": [
    "<b> FIM DA ANALISEE COMPARATIVA DE MODELOS DE REGRESSAO<b>"
   ]
  },
  {
   "cell_type": "markdown",
   "metadata": {},
   "source": [
    "# TESTANDO OS DOIS MELHORES MODELOS ESPECIFICOS PARA O DATASET: KNN e DECISION TREE"
   ]
  },
  {
   "cell_type": "markdown",
   "metadata": {},
   "source": [
    "<b>KNN: APLICACAO MODELO E AJUSTE DE PARAMETROS<b>"
   ]
  },
  {
   "cell_type": "code",
   "execution_count": 40,
   "metadata": {},
   "outputs": [],
   "source": [
    "#Normalizando dados:\n",
    "normalizadorKNN = MinMaxScaler(feature_range=(0,1))\n",
    "x_normKNN = normalizadorKNN.fit_transform(x)"
   ]
  },
  {
   "cell_type": "code",
   "execution_count": 41,
   "metadata": {},
   "outputs": [],
   "source": [
    "#Base de treino e teste:\n",
    "x_teste, y_teste, x_treino, y_treino = train_test_split(x_normKNN, y, test_size=0.3, random_state = 14)"
   ]
  },
  {
   "cell_type": "code",
   "execution_count": 42,
   "metadata": {},
   "outputs": [
    {
     "name": "stdout",
     "output_type": "stream",
     "text": [
      "Resultado modelo KNN: 0.6442524841915086\n"
     ]
    }
   ],
   "source": [
    "modeloKNN = KNeighborsClassifier()\n",
    "modeloKNN.fit(x,y)\n",
    "ResultadoKNN = modeloKNN.score(x ,y)\n",
    "print('Resultado modelo KNN:', ResultadoKNN)"
   ]
  },
  {
   "cell_type": "code",
   "execution_count": 43,
   "metadata": {},
   "outputs": [],
   "source": [
    "#Ajuste de parametros e nova aplicacao KNN:\n",
    "from sklearn.model_selection import GridSearchCV\n",
    "import numpy as np\n",
    "\n",
    "valores_K = np.array([3, 5, 7, 9, 11])\n",
    "calculo_distancia = ['minkowski', 'chebyshev']\n",
    "valores_p = np.array([1,2,3,4])   \n",
    "valores_grid = {'n_neighbors': valores_K, 'metric': calculo_distancia, 'p': valores_p}\n",
    "#inserindo ' minkowski' posso testar outras distancias tambem em valores.p1 = distancia euclidiana, p2 = distancia manhattan"
   ]
  },
  {
   "cell_type": "code",
   "execution_count": null,
   "metadata": {},
   "outputs": [],
   "source": [
    "#Criando os grids:\n",
    "gridKNN = GridSearchCV(estimator=modeloKNN, param_grid=valores_grid, cv=5)\n",
    "gridKNN.fit(x_normKNN, y)"
   ]
  },
  {
   "cell_type": "code",
   "execution_count": null,
   "metadata": {},
   "outputs": [],
   "source": [
    "#Imprimindo os melhores parametros:\n",
    "print('Melhor acuracia:', gridKNN.best_score_)\n",
    "print('Melhor K:', gridKNN.best_estimator_.n_neighbors)\n",
    "print('Metodo distancia:', gridKNN.best_estimator_.metric)\n",
    "print('Melhor valor de p:', gridKNN.best_estimator_.p )"
   ]
  },
  {
   "cell_type": "markdown",
   "metadata": {},
   "source": [
    "<b>DECISION TREE: APLICACAO MODELO E AJUSTE DE PARAMETROS<b>"
   ]
  },
  {
   "cell_type": "code",
   "execution_count": null,
   "metadata": {},
   "outputs": [],
   "source": [
    "#Aplicando modelo:\n",
    "from sklearn.model_selection import StratifiedKFold\n",
    "skfolddTree = StratifiedKFold(n_splits=5, random_state=10, shufle=True)\n",
    "modeloDTree = DecisionTreeClassifier()\n",
    "resultadoDTREE = cross_val_score(modeloDTree, x, y, cv = skfolddTree)\n",
    "print('Resultados Decision Tree:', resultado DTREE)"
   ]
  },
  {
   "cell_type": "code",
   "execution_count": null,
   "metadata": {},
   "outputs": [],
   "source": [
    "#Ajustando parametros e aplicando modelo novamente:\n",
    "\n",
    "#Valores parametros:\n",
    "num_splitsTree = np.array([2,3,4,5,6,7,8,9])\n",
    "max_nivelTree = np.array([3,4,5,6,])\n",
    "algoritmo = ['gini', 'entropy']\n",
    "valores_gridDtree = {'min_samples_split': num_splitsTree, 'max_depth': max_nivelTree, 'criterion': algoritmo}\n",
    "\n",
    "gridTree = GridSearchCV(estimator=modeloDTree, param_grid=valores_gridDTree, cv=5)\n",
    "gridTree.fit(x,y)\n",
    "\n",
    "print('Melhor Resultado:', gridTree.best_score_)\n",
    "print('Menor Split:', gridTree.best_estimator_.min_samples_split)\n",
    "print('Maior Profundidade:', gridTree.best_estimator_.max_depth)\n",
    "print('Algoritmo Recomendado:', gridTree.best_estimator_.criterion)"
   ]
  },
  {
   "cell_type": "code",
   "execution_count": null,
   "metadata": {},
   "outputs": [],
   "source": []
  },
  {
   "cell_type": "code",
   "execution_count": null,
   "metadata": {},
   "outputs": [],
   "source": []
  },
  {
   "cell_type": "code",
   "execution_count": null,
   "metadata": {},
   "outputs": [],
   "source": []
  }
 ],
 "metadata": {
  "kernelspec": {
   "display_name": "Python 3",
   "language": "python",
   "name": "python3"
  },
  "language_info": {
   "codemirror_mode": {
    "name": "ipython",
    "version": 3
   },
   "file_extension": ".py",
   "mimetype": "text/x-python",
   "name": "python",
   "nbconvert_exporter": "python",
   "pygments_lexer": "ipython3",
   "version": "3.8.5"
  }
 },
 "nbformat": 4,
 "nbformat_minor": 4
}
